{
 "cells": [
  {
   "cell_type": "code",
   "execution_count": 3,
   "id": "780028d0",
   "metadata": {},
   "outputs": [
    {
     "name": "stdout",
     "output_type": "stream",
     "text": [
      "Note: you may need to restart the kernel to use updated packages.\n"
     ]
    }
   ],
   "source": [
    "# install dependencies\n",
    "%pip install -q amplpy matplotlib pandas"
   ]
  },
  {
   "cell_type": "code",
   "execution_count": 23,
   "id": "5ef750c5",
   "metadata": {
    "scrolled": true
   },
   "outputs": [
    {
     "data": {
      "application/vnd.jupyter.widget-view+json": {
       "model_id": "3659e375ee5b421f9cde2eb03959b244",
       "version_major": 2,
       "version_minor": 0
      },
      "text/plain": [
       "VBox(children=(Output(), HBox(children=(Text(value='', description='License UUID:', style=TextStyle(descriptio…"
      ]
     },
     "metadata": {},
     "output_type": "display_data"
    }
   ],
   "source": [
    "# Step 1: Import AMPL and Initialize Notebook Integration\n",
    "# --------------------------------------------------------\n",
    "# This step sets up the AMPL environment using amplpy in a Jupyter Notebook.\n",
    "# - `ampl_notebook()` installs the solvers you need (e.g., CBC, HiGHS)\n",
    "# - It also initializes the magic commands for inline AMPL execution.\n",
    "# - The 'default' license allows use of free solvers.\n",
    "\n",
    "from amplpy import AMPL, ampl_notebook\n",
    "\n",
    "# Initialize AMPL with selected solver modules and license\n",
    "ampl = ampl_notebook(\n",
    "    modules=[\"cbc\", \"highs\"],     # Solvers to install and use\n",
    "    license_uuid=\"default\"        # Use the default license (free tier)\n",
    ")\n"
   ]
  },
  {
   "cell_type": "code",
   "execution_count": 24,
   "id": "e40d1004",
   "metadata": {},
   "outputs": [],
   "source": [
    "# Step 2: Define Decision Variables\n",
    "# ---------------------------------\n",
    "# In this production planning problem, there are five decision variables:\n",
    "# - Three for the **resources used**: raw material, labor A, and labor B\n",
    "# - Two for the **products produced**: high-end product U and low-end product V\n",
    "\n",
    "from amplpy import AMPL\n",
    "\n",
    "# Create AMPL environment\n",
    "ampl = AMPL()\n",
    "\n",
    "# Declare decision variables in AMPL\n",
    "ampl.eval(\"\"\"\n",
    "    reset;  # Clear any previous definitions in the AMPL session\n",
    "\n",
    "    # Decision Variables:\n",
    "\n",
    "    var xM >= 0;              # xM: Total grams of raw material used (must be ≥ 0)\n",
    "\n",
    "    var xA >= 0, <= 80;       # xA: Hours of Labor A used (max 80 hours/week)\n",
    "\n",
    "    var xB >= 0, <= 100;      # xB: Hours of Labor B used (max 100 hours/week)\n",
    "\n",
    "    var yU >= 0, <= 40;       # yU: Units of high-end product U to produce (max 40 due to demand)\n",
    "\n",
    "    var yV >= 0;              # yV: Units of low-end product V to produce (unlimited demand)\n",
    "\"\"\")\n"
   ]
  },
  {
   "cell_type": "code",
   "execution_count": 25,
   "id": "d333b752",
   "metadata": {},
   "outputs": [],
   "source": [
    "# Step 3: Define the Objective Function (Profit Maximization)\n",
    "# ------------------------------------------------------------\n",
    "# In this production planning problem, the company wants to maximize profits.\n",
    "# Profit is calculated as total revenue from selling products U and V\n",
    "# minus the costs of raw materials and labor.\n",
    "\n",
    "ampl.eval(\"\"\"\n",
    "# Objective function: Maximize Profit\n",
    "maximize Profit:\n",
    "    270 * yU      # Revenue from high-end product U\n",
    "  + 210 * yV      # Revenue from low-end product V\n",
    "  - 10  * xM      # Raw material cost\n",
    "  - 50  * xA      # Labor A cost\n",
    "  - 40  * xB;     # Labor B cost\n",
    "\"\"\")\n"
   ]
  },
  {
   "cell_type": "code",
   "execution_count": 26,
   "id": "b8fce242",
   "metadata": {},
   "outputs": [],
   "source": [
    "# Step 4: Define Constraints\n",
    "# --------------------------\n",
    "# Constraints in AMPL restrict how decision variables can be combined.\n",
    "# Each constraint:\n",
    "# - Begins with the keyword `subject to` (can also use `subj to`, `s.t.`, or omit entirely)\n",
    "# - Includes a name for reference\n",
    "# - Ends with a semicolon `;`\n",
    "# - Uses relational operators (<=, >=, =) to express resource limits\n",
    "\n",
    "ampl.eval(\"\"\"\n",
    "# Raw material constraint: ensure material used in products ≤ material ordered\n",
    "subj to raw_materials:\n",
    "    10 * yU + 9 * yV <= xM;\n",
    "\n",
    "# Labor A constraint: total Labor A hours used by both products ≤ 80\n",
    "subj to labor_A:\n",
    "    2 * yU + 1 * yV <= xA;\n",
    "\n",
    "# Labor B constraint: total Labor B hours used by both products ≤ 100\n",
    "subj to labor_B:\n",
    "    1 * yU + 1 * yV <= xB;\n",
    "\"\"\")\n"
   ]
  },
  {
   "cell_type": "code",
   "execution_count": 29,
   "id": "340f5475",
   "metadata": {},
   "outputs": [
    {
     "name": "stdout",
     "output_type": "stream",
     "text": [
      "cbc 2.10.12:cbc 2.10.12: optimal solution; objective 2400\n",
      "0 simplex iterations\n"
     ]
    }
   ],
   "source": [
    "# Step 5: Apply the Model\n",
    "# -----------------------\n",
    "# In this step, we set the solver to 'cbc' and apply the model to compute the optimal solution.\n",
    "# No results are displayed yet — that comes in the next step.\n",
    "\n",
    "# Set the solver (must be one of the modules loaded in Step 1)\n",
    "ampl.set_option('solver', 'cbc')\n",
    "\n",
    "# Solve the model\n",
    "ampl.eval(\"\"\"\n",
    "solve;\n",
    "\"\"\")\n"
   ]
  },
  {
   "cell_type": "code",
   "execution_count": 30,
   "id": "17177885",
   "metadata": {},
   "outputs": [
    {
     "name": "stdout",
     "output_type": "stream",
     "text": [
      "{'xM': 720, 'xA': 80, 'xB': 80, 'yU': 0, 'yV': 80}\n",
      "xM 720\n",
      "xA 80\n",
      "xB 80\n",
      "yU 0\n",
      "yV 80\n"
     ]
    }
   ],
   "source": [
    "# Step 6A: Retrieve solution values using get_solution()\n",
    "# -------------------------------------------------------\n",
    "# This function returns a dictionary with variable names as keys and their values as values.\n",
    "# By setting `zeros=True`, we also capture variables that were assigned a value of zero.\n",
    "\n",
    "solution = ampl.get_solution(zeros=True)\n",
    "\n",
    "# View the full solution dictionary\n",
    "print(solution)\n",
    "\n",
    "# Access individual variable values\n",
    "print(\"xM\", solution[\"xM\"])   # Raw material used\n",
    "print(\"xA\", solution[\"xA\"])   # Labor A used\n",
    "print(\"xB\", solution[\"xB\"])   # Labor B used\n",
    "print(\"yU\", solution[\"yU\"])   # Units of product U produced\n",
    "print(\"yV\", solution[\"yV\"])   # Units of product V produced\n"
   ]
  },
  {
   "cell_type": "code",
   "execution_count": 31,
   "id": "59b91e50",
   "metadata": {},
   "outputs": [
    {
     "data": {
      "text/plain": [
       "U     0\n",
       "V    80\n",
       "dtype: int64"
      ]
     },
     "metadata": {},
     "output_type": "display_data"
    },
    {
     "data": {
      "text/plain": [
       "A     80\n",
       "B     80\n",
       "M    720\n",
       "dtype: int64"
      ]
     },
     "metadata": {},
     "output_type": "display_data"
    }
   ],
   "source": [
    "# Step 7A: Create Reports with Pandas\n",
    "# -----------------------------------\n",
    "# We use pandas Series to organize production and resource usage data from the solution.\n",
    "\n",
    "import pandas as pd\n",
    "\n",
    "# Create a pandas Series for units produced\n",
    "production = pd.Series({\n",
    "    \"U\": ampl.get_value(\"yU\"),   # Product U\n",
    "    \"V\": ampl.get_value(\"yV\"),   # Product V\n",
    "})\n",
    "\n",
    "# Create a pandas Series for raw materials and labor usage\n",
    "raw_materials = pd.Series({\n",
    "    \"A\": ampl.get_value(\"xA\"),   # Labor A\n",
    "    \"B\": ampl.get_value(\"xB\"),   # Labor B\n",
    "    \"M\": ampl.get_value(\"xM\"),   # Raw Material\n",
    "})\n",
    "\n",
    "# Display the Series (neatly formatted in Jupyter)\n",
    "display(production)\n",
    "display(raw_materials)\n"
   ]
  },
  {
   "cell_type": "code",
   "execution_count": 32,
   "id": "89f416af",
   "metadata": {},
   "outputs": [
    {
     "data": {
      "image/png": "[encoded data removed]",
      "text/plain": [
       "<Figure size 800x200 with 2 Axes>"
      ]
     },
     "metadata": {},
     "output_type": "display_data"
    }
   ],
   "source": [
    "# Step 7B: Visualize Solution with Matplotlib\n",
    "# --------------------------------------------\n",
    "# We now generate a simple bar chart to illustrate production and resource usage.\n",
    "\n",
    "import matplotlib.pyplot as plt\n",
    "\n",
    "# Create a 1-row, 2-column subplot layout\n",
    "fig, ax = plt.subplots(1, 2, figsize=(8, 2))\n",
    "\n",
    "# Plot production as a horizontal bar chart\n",
    "production.plot(\n",
    "    ax=ax[0],\n",
    "    kind=\"barh\",\n",
    "    title=\"Production\"\n",
    ")\n",
    "\n",
    "# Plot raw materials/labor usage as a horizontal bar chart\n",
    "raw_materials.plot(\n",
    "    ax=ax[1],\n",
    "    kind=\"barh\",\n",
    "    title=\"Raw Materials\"\n",
    ")\n",
    "\n",
    "# Invert y-axis so that items are ordered top-to-bottom\n",
    "ax[0].invert_yaxis()\n",
    "ax[1].invert_yaxis()\n",
    "\n",
    "# Improve layout spacing\n",
    "plt.tight_layout()\n",
    "plt.show()\n"
   ]
  },
  {
   "cell_type": "code",
   "execution_count": 33,
   "id": "ac4c65b9",
   "metadata": {},
   "outputs": [
    {
     "name": "stdout",
     "output_type": "stream",
     "text": [
      "Writing production_planning_basic.mod\n"
     ]
    }
   ],
   "source": [
    "%%writefile production_planning_basic.mod\n",
    "\n",
    "# Decision variables\n",
    "var x_M >= 0;\n",
    "var x_A >= 0, <= 80;\n",
    "var x_B >= 0, <= 100;\n",
    "var y_U >= 0, <= 40;\n",
    "var y_V >= 0;\n",
    "\n",
    "# Auxiliary variables\n",
    "var revenue = 270 * y_U + 210 * y_V;\n",
    "var cost    = 10 * x_M + 50 * x_A + 40 * x_B;\n",
    "\n",
    "# Objective function\n",
    "maximize profit: revenue - cost;\n",
    "\n",
    "# Constraints\n",
    "s.t. raw_materials: 10 * y_U + 9 * y_V <= x_M;\n",
    "s.t. labor_A:      2 * y_U + 1 * y_V <= x_A;\n",
    "s.t. labor_B:      1 * y_U + 1 * y_V <= x_B;\n"
   ]
  },
  {
   "cell_type": "code",
   "execution_count": 34,
   "id": "1dc8c280",
   "metadata": {},
   "outputs": [
    {
     "name": "stdout",
     "output_type": "stream",
     "text": [
      "HiGHS 1.10.0HiGHS 1.10.0: optimal solution; objective 2400\n",
      "2 simplex iterations\n",
      "0 barrier iterations\n"
     ]
    }
   ],
   "source": [
    "from amplpy import AMPL\n",
    "\n",
    "# Create AMPL instance\n",
    "ampl = AMPL()\n",
    "\n",
    "# Load model from file\n",
    "ampl.read(\"production_planning_basic.mod\")\n",
    "\n",
    "# Solve using 'highs' or 'cbc'\n",
    "ampl.set_option('solver', 'highs')\n",
    "ampl.solve()\n",
    "\n",
    "# Optional: confirm success\n",
    "assert ampl.solve_result == \"solved\", ampl.solve_result\n"
   ]
  },
  {
   "cell_type": "code",
   "execution_count": null,
   "id": "59f34d29",
   "metadata": {},
   "outputs": [],
   "source": []
  }
 ],
 "metadata": {
  "kernelspec": {
   "display_name": "Python 3 (ipykernel)",
   "language": "python",
   "name": "python3"
  },
  "language_info": {
   "codemirror_mode": {
    "name": "ipython",
    "version": 3
   },
   "file_extension": ".py",
   "mimetype": "text/x-python",
   "name": "python",
   "nbconvert_exporter": "python",
   "pygments_lexer": "ipython3",
   "version": "3.11.5"
  }
 },
 "nbformat": 4,
 "nbformat_minor": 5
}
